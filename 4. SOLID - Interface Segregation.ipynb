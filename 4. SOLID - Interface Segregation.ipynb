{
 "cells": [
  {
   "cell_type": "markdown",
   "metadata": {},
   "source": [
    "You should not stick too many elements, too many methods into an interface."
   ]
  },
  {
   "cell_type": "code",
   "execution_count": 7,
   "metadata": {},
   "outputs": [],
   "source": [
    "from abc import abstractmethod\n",
    "\n",
    "\n",
    "class Machine:\n",
    "    def print(self, document):\n",
    "        raise NotImplementedError()\n",
    "\n",
    "    def fax(self, document):\n",
    "        raise NotImplementedError()\n",
    "\n",
    "    def scan(self, document):\n",
    "        raise NotImplementedError()\n",
    "\n",
    "\n",
    "# If you need a multifunction device\n",
    "# Old printer cannot fax or scan. however, if somebody makes an instance of an old fashioned printer,\n",
    "# they're still going to see fax as an interface member, And they could be forgiven for assuming that even though this is an old fashioned printer, \n",
    "# the fax method actually does something. So they end up calling fax and an old fashioned printer.\n",
    "# There is absolutely no effect. And then the clients or whoever is using this class actually gets a big surprise because maybe they\n",
    "# expected to actually send a fax using an old fashioned printer.\n",
    "# This is kinda bad\n",
    "class OldFashionedPrinter(Machine):\n",
    "    def print(self, document):\n",
    "        print(\"Something\")\n",
    "        pass\n",
    "\n",
    "    def fax(self, document):\n",
    "        pass  # do-nothing\n",
    "\n",
    "    def scan(self, document):\n",
    "        \"\"\"Not supported!\"\"\"\n",
    "        raise NotImplementedError('Printer cannot scan!')\n",
    "        # We could implement an Exception Error instead of doing nothing like the fax method above as an alternative\n"
   ]
  },
  {
   "cell_type": "markdown",
   "metadata": {},
   "source": [
    "## Better Design"
   ]
  },
  {
   "cell_type": "code",
   "execution_count": 8,
   "metadata": {},
   "outputs": [],
   "source": [
    "class Printer:\n",
    "    @abstractmethod\n",
    "    def print(self, document): pass\n",
    "\n",
    "\n",
    "class Scanner:\n",
    "    @abstractmethod\n",
    "    def scan(self, document): pass\n",
    "\n",
    "\n",
    "class MyPrinter(Printer): # Pass in a specific interface for each API so the user wouldn't see unnecessay methods\n",
    "    def print(self, document):\n",
    "        print(document)\n",
    "\n",
    "\n",
    "class Photocopier(Printer, Scanner): # Pass in a specific interface for each API\n",
    "    def print(self, document):\n",
    "        print(document)\n",
    "\n",
    "    def scan(self, document):\n",
    "        pass  # something meaningful\n"
   ]
  },
  {
   "cell_type": "markdown",
   "metadata": {},
   "source": [
    "#### If you still want to expose every methods even though they might not be available. you can define it as an interface"
   ]
  },
  {
   "cell_type": "code",
   "execution_count": 10,
   "metadata": {},
   "outputs": [],
   "source": [
    "class MultiFunctionDevice(Printer, Scanner):  # , Fax, etc\n",
    "    @abstractmethod\n",
    "    def print(self, document):\n",
    "        pass\n",
    "\n",
    "    @abstractmethod\n",
    "    def scan(self, document):\n",
    "        pass\n",
    "\n",
    "\n",
    "class MultiFunctionMachine(MultiFunctionDevice):\n",
    "    def __init__(self, printer, scanner):\n",
    "        self.printer = printer\n",
    "        self.scanner = scanner\n",
    "\n",
    "    def print(self, document):\n",
    "        self.printer.print(document)\n",
    "\n",
    "    def scan(self, document):\n",
    "        self.scanner.scan(document)\n"
   ]
  },
  {
   "cell_type": "markdown",
   "metadata": {},
   "source": [
    "## Take-away\n",
    "\n",
    "Making interfaces which feature too many elements is not a good idea because you're forcing your clients to define methods in this case, which they might not even need.\n",
    "\n",
    "So an ordinary printer does not need to define fax. It does not need to define scan.\n",
    "And you don't really want either scan or fax to appear as part of their interface.\n",
    "\n",
    "Interface Segragation Principle states that you should segregate unnessary methods\n",
    "into the smaller interfaces you can build so that people don't have to implement more than they need."
   ]
  },
  {
   "cell_type": "markdown",
   "metadata": {},
   "source": []
  }
 ],
 "metadata": {
  "kernelspec": {
   "display_name": "Python 3.8.10 64-bit",
   "language": "python",
   "name": "python3"
  },
  "language_info": {
   "codemirror_mode": {
    "name": "ipython",
    "version": 3
   },
   "file_extension": ".py",
   "mimetype": "text/x-python",
   "name": "python",
   "nbconvert_exporter": "python",
   "pygments_lexer": "ipython3",
   "version": "3.8.10"
  },
  "orig_nbformat": 4,
  "vscode": {
   "interpreter": {
    "hash": "e7370f93d1d0cde622a1f8e1c04877d8463912d04d973331ad4851f04de6915a"
   }
  }
 },
 "nbformat": 4,
 "nbformat_minor": 2
}
