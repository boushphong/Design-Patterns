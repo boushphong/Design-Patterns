{
 "cells": [
  {
   "cell_type": "markdown",
   "metadata": {},
   "source": [
    "## Good Design"
   ]
  },
  {
   "cell_type": "code",
   "execution_count": 1,
   "metadata": {},
   "outputs": [
    {
     "name": "stdout",
     "output_type": "stream",
     "text": [
      "Journal entries:\n",
      "0: I cried today.\n",
      "1: I ate a bug.\n",
      "\n"
     ]
    }
   ],
   "source": [
    "# SRP - A class should have a single reason to change and that change should be somehow related to its primary responsibility\n",
    "class Journal:\n",
    "    def __init__(self):\n",
    "        self.entries = []\n",
    "        self.count = 0\n",
    "\n",
    "    def add_entry(self, text):\n",
    "        self.entries.append(f\"{self.count}: {text}\")\n",
    "        self.count += 1\n",
    "\n",
    "    def remove_entry(self, pos):\n",
    "        del self.entries[pos]\n",
    "\n",
    "    def __str__(self):\n",
    "        return \"\\n\".join(self.entries)\n",
    "\n",
    "\n",
    "if __name__ == \"__main__\":\n",
    "    j = Journal()\n",
    "    j.add_entry(\"I cried today.\")\n",
    "    j.add_entry(\"I ate a bug.\")\n",
    "    print(f\"Journal entries:\\n{j}\\n\")"
   ]
  },
  {
   "cell_type": "markdown",
   "metadata": {},
   "source": [
    "## Bad Design"
   ]
  },
  {
   "cell_type": "code",
   "execution_count": 2,
   "metadata": {},
   "outputs": [],
   "source": [
    "class Journal:\n",
    "    def __init__(self):\n",
    "        self.entries = []\n",
    "        self.count = 0\n",
    "\n",
    "    def add_entry(self, text):\n",
    "        self.entries.append(f\"{self.count}: {text}\")\n",
    "        self.count += 1\n",
    "\n",
    "    def remove_entry(self, pos):\n",
    "        del self.entries[pos]\n",
    "\n",
    "    def __str__(self):\n",
    "        return \"\\n\".join(self.entries)\n",
    "\n",
    "    # break SRP. The functionality below would violate the rule (Not recommended)\n",
    "    def save(self, filename):\n",
    "        file = open(filename, \"w\")\n",
    "        file.write(str(self))\n",
    "        file.close()\n",
    "\n",
    "    def load(self, filename):\n",
    "        pass\n",
    "\n",
    "    def load_from_web(self, uri):\n",
    "        pass"
   ]
  },
  {
   "cell_type": "markdown",
   "metadata": {},
   "source": [
    "## Good Design"
   ]
  },
  {
   "cell_type": "code",
   "execution_count": 5,
   "metadata": {},
   "outputs": [
    {
     "name": "stdout",
     "output_type": "stream",
     "text": [
      "Journal entries:\n",
      "0: I cried today.\n",
      "1: I ate a bug.\n",
      "\n"
     ]
    }
   ],
   "source": [
    "# The code above should be rewritten as follow:\n",
    "class Journal:\n",
    "    def __init__(self):\n",
    "        self.entries = []\n",
    "        self.count = 0\n",
    "\n",
    "    def add_entry(self, text):\n",
    "        self.entries.append(f\"{self.count}: {text}\")\n",
    "        self.count += 1\n",
    "\n",
    "    def remove_entry(self, pos):\n",
    "        del self.entries[pos]\n",
    "\n",
    "    def __str__(self):\n",
    "        return \"\\n\".join(self.entries)\n",
    "\n",
    "\n",
    "class PersistenceManager:\n",
    "    @staticmethod\n",
    "    def save_to_file(journal, filename):\n",
    "        file = open(filename, \"w\")\n",
    "        file.write(str(journal))\n",
    "        file.close()\n",
    "\n",
    "if __name__ == \"__main__\":\n",
    "    j = Journal()\n",
    "    j.add_entry(\"I cried today.\")\n",
    "    j.add_entry(\"I ate a bug.\")\n",
    "    print(f\"Journal entries:\\n{j}\\n\")\n",
    "\n",
    "    p = PersistenceManager()\n",
    "    file = r'/tmp/journal.txt'\n",
    "    p.save_to_file(j, file)\n"
   ]
  },
  {
   "cell_type": "code",
   "execution_count": null,
   "metadata": {},
   "outputs": [],
   "source": []
  }
 ],
 "metadata": {
  "kernelspec": {
   "display_name": "Python 3.8.10 64-bit",
   "language": "python",
   "name": "python3"
  },
  "language_info": {
   "codemirror_mode": {
    "name": "ipython",
    "version": 3
   },
   "file_extension": ".py",
   "mimetype": "text/x-python",
   "name": "python",
   "nbconvert_exporter": "python",
   "pygments_lexer": "ipython3",
   "version": "3.8.10"
  },
  "orig_nbformat": 4,
  "vscode": {
   "interpreter": {
    "hash": "e7370f93d1d0cde622a1f8e1c04877d8463912d04d973331ad4851f04de6915a"
   }
  }
 },
 "nbformat": 4,
 "nbformat_minor": 2
}
