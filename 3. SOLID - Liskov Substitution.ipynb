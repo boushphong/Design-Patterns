{
 "cells": [
  {
   "cell_type": "code",
   "execution_count": 16,
   "metadata": {},
   "outputs": [
    {
     "name": "stdout",
     "output_type": "stream",
     "text": [
      "width 3, height 10\n",
      "Expected an area of 30, got 30\n",
      "width 10, height 10\n",
      "Expected an area of 50, got 100\n"
     ]
    }
   ],
   "source": [
    "class Rectangle:\n",
    "    def __init__(self, height, width):\n",
    "        self._height = height\n",
    "        self._width = width\n",
    "\n",
    "    @property\n",
    "    def area(self):\n",
    "        return self._width * self._height\n",
    "\n",
    "    def __str__(self):\n",
    "        return f'Width: {self.width}, height: {self.height}'\n",
    "\n",
    "    @property\n",
    "    def width(self):\n",
    "        return self._width\n",
    "\n",
    "    @width.setter\n",
    "    def width(self, value):\n",
    "        self._width = value\n",
    "\n",
    "    @property\n",
    "    def height(self):\n",
    "        return self._height\n",
    "\n",
    "    @height.setter\n",
    "    def height(self, value):\n",
    "        self._height = value\n",
    "\n",
    "\n",
    "class Square(Rectangle):\n",
    "    def __init__(self, size):\n",
    "        Rectangle.__init__(self, size, size)\n",
    "\n",
    "    @Rectangle.width.setter\n",
    "    def width(self, value):\n",
    "        self._width = self._height = value # Also change the width\n",
    "\n",
    "    @Rectangle.height.setter\n",
    "    def height(self, value):\n",
    "        self._height = self._width = value # Also change the height\n",
    "\n",
    "\n",
    "def use_it(rc):\n",
    "    w = rc.width\n",
    "    rc.height = 10  # resetting the height. -> unpleasant side effect for Square Class.\n",
    "    expected = int(w * 10) # w is the old value for width. however rc.height should change the width as well\n",
    "    # Hence this code only works on the rectangle class but not the square class\n",
    "\n",
    "    print(f'width {rc.width}, height {rc.height}')\n",
    "    print(f'Expected an area of {expected}, got {rc.area}')\n",
    "\n",
    "\n",
    "if __name__ == \"__main__\":\n",
    "    rc = Rectangle(2, 3)\n",
    "    use_it(rc)\n",
    "\n",
    "    sq = Square(5)\n",
    "    use_it(sq)"
   ]
  },
  {
   "cell_type": "markdown",
   "metadata": {},
   "source": [
    "The code above for the Square class breaks the Liskov Substitution Principle.\n",
    "\n",
    "Because the use_it function only works on the the rectangle class and not the the derived class (Square). This is a direct violation of the Liskov substitution principle, which states that whenever you have an interface taking some sort of base class, you should be able to stick in any of its inheritors. So if you take a rectangle, you should be able to stick in a square in there and everything should work correctly.\n",
    "\n",
    "The fix:\n",
    "\n",
    "There is no need for a Square class in the first place. Instead we could have a boolean property on the rectangle init method telling you whether or not this is a square. Or a Factory Method"
   ]
  },
  {
   "cell_type": "code",
   "execution_count": null,
   "metadata": {},
   "outputs": [],
   "source": []
  },
  {
   "cell_type": "code",
   "execution_count": null,
   "metadata": {},
   "outputs": [],
   "source": []
  }
 ],
 "metadata": {
  "kernelspec": {
   "display_name": "Python 3.8.10 64-bit",
   "language": "python",
   "name": "python3"
  },
  "language_info": {
   "codemirror_mode": {
    "name": "ipython",
    "version": 3
   },
   "file_extension": ".py",
   "mimetype": "text/x-python",
   "name": "python",
   "nbconvert_exporter": "python",
   "pygments_lexer": "ipython3",
   "version": "3.8.10"
  },
  "orig_nbformat": 4,
  "vscode": {
   "interpreter": {
    "hash": "e7370f93d1d0cde622a1f8e1c04877d8463912d04d973331ad4851f04de6915a"
   }
  }
 },
 "nbformat": 4,
 "nbformat_minor": 2
}
